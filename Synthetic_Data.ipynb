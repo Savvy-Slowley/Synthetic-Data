{
  "nbformat": 4,
  "nbformat_minor": 0,
  "metadata": {
    "colab": {
      "provenance": [],
      "authorship_tag": "ABX9TyO7hfmZb3S6bGZMonTE+Yuv",
      "include_colab_link": true
    },
    "kernelspec": {
      "name": "python3",
      "display_name": "Python 3"
    },
    "language_info": {
      "name": "python"
    }
  },
  "cells": [
    {
      "cell_type": "markdown",
      "metadata": {
        "id": "view-in-github",
        "colab_type": "text"
      },
      "source": [
        "<a href=\"https://colab.research.google.com/github/Savvy-Slowley/Synthetic-Data/blob/main/Synthetic_Data.ipynb\" target=\"_parent\"><img src=\"https://colab.research.google.com/assets/colab-badge.svg\" alt=\"Open In Colab\"/></a>"
      ]
    },
    {
      "cell_type": "code",
      "source": [
        "!pip install Faker"
      ],
      "metadata": {
        "colab": {
          "base_uri": "https://localhost:8080/"
        },
        "id": "dkKMfL3B_PbI",
        "outputId": "3920135e-8577-4ce7-9029-03a3059f9495"
      },
      "execution_count": null,
      "outputs": [
        {
          "output_type": "stream",
          "name": "stdout",
          "text": [
            "Looking in indexes: https://pypi.org/simple, https://us-python.pkg.dev/colab-wheels/public/simple/\n",
            "Collecting Faker\n",
            "  Downloading Faker-18.11.1-py3-none-any.whl (1.7 MB)\n",
            "\u001b[2K     \u001b[90m━━━━━━━━━━━━━━━━━━━━━━━━━━━━━━━━━━━━━━━━\u001b[0m \u001b[32m1.7/1.7 MB\u001b[0m \u001b[31m25.1 MB/s\u001b[0m eta \u001b[36m0:00:00\u001b[0m\n",
            "\u001b[?25hRequirement already satisfied: python-dateutil>=2.4 in /usr/local/lib/python3.10/dist-packages (from Faker) (2.8.2)\n",
            "Requirement already satisfied: six>=1.5 in /usr/local/lib/python3.10/dist-packages (from python-dateutil>=2.4->Faker) (1.16.0)\n",
            "Installing collected packages: Faker\n",
            "Successfully installed Faker-18.11.1\n"
          ]
        }
      ]
    },
    {
      "cell_type": "code",
      "execution_count": null,
      "metadata": {
        "colab": {
          "base_uri": "https://localhost:8080/"
        },
        "id": "Tp4_V0Xc_Fbh",
        "outputId": "885ea6f8-ea95-4bf2-dd2f-3234bfb94462"
      },
      "outputs": [
        {
          "output_type": "stream",
          "name": "stdout",
          "text": [
            "Customer Dataset:\n",
            "   customer_id first_name  last_name          ssn  \\\n",
            "0            1     Stacey     Bender  353-57-2603   \n",
            "1            2    Jeffrey      Mccoy  062-24-4276   \n",
            "2            3      Brian  Zimmerman  052-05-4465   \n",
            "3            4   Jennifer    Compton  215-45-1918   \n",
            "4            5   Benjamin      Kelly  395-01-1779   \n",
            "\n",
            "                                             address  birth_date  \\\n",
            "0  48166 Barbara Flat Suite 531\\nMckinneyshire, N...  2019-11-12   \n",
            "1            5578 Decker Garden\\nJesusbury, AZ 36113  2021-03-19   \n",
            "2                   PSC 7339, Box 7148\\nAPO AA 58461  2020-12-16   \n",
            "3       20201 Smith Court\\nWest Shawnville, AS 53262  2022-03-27   \n",
            "4         931 Wendy Streets\\nNorth Michael, WA 60271  2005-05-25   \n",
            "\n",
            "  acquisition_channel  \n",
            "0            Referral  \n",
            "1            Referral  \n",
            "2        Social Media  \n",
            "3             Organic  \n",
            "4            Paid Ads  \n",
            "\n",
            "Order Dataset:\n",
            "   customer_id  order_id transaction_date     product  price  quantity\n",
            "0            3         1       2017-05-03       Mouse    191         4\n",
            "1            4         2       2013-10-22     SD Card     47         2\n",
            "2            5         3       2018-08-18  Smartphone    491         5\n",
            "3            1         4       2020-05-29       Mouse    328         2\n"
          ]
        }
      ],
      "source": [
        "from faker import Faker\n",
        "import random\n",
        "from datetime import datetime, timedelta\n",
        "import pandas as pd\n",
        "\n",
        "fake = Faker()\n",
        "\n",
        "def random_date(start, end):\n",
        "    return start + timedelta(seconds=random.randint(0, int((end - start).total_seconds())))\n",
        "\n",
        "# Specify the number of customers and starting customer ID\n",
        "num_customers = 5\n",
        "start_customer_id = 1\n",
        "\n",
        "# Creating the Customer Dataset\n",
        "customer_data = {\n",
        "    'customer_id': range(start_customer_id, start_customer_id + num_customers),\n",
        "    'first_name': [],\n",
        "    'last_name': [],\n",
        "    'ssn': [],\n",
        "    'address': [],\n",
        "    'birth_date': [],\n",
        "    'acquisition_channel': []\n",
        "}\n",
        "\n",
        "start_date = datetime(1960, 1, 1)\n",
        "end_date = datetime.now()\n",
        "\n",
        "acquisition_channels = ['Organic', 'Referral', 'Paid Ads', 'Social Media']\n",
        "\n",
        "for customer in range(num_customers):\n",
        "    first_name = fake.first_name()\n",
        "    last_name = fake.last_name()\n",
        "    address = fake.address()\n",
        "    ssn = fake.ssn()\n",
        "    birth_date = random_date(start_date, end_date).strftime('%Y-%m-%d')\n",
        "    acquisition_channel = random.choice(acquisition_channels)\n",
        "\n",
        "    customer_data['first_name'].append(first_name)\n",
        "    customer_data['last_name'].append(last_name)\n",
        "    customer_data['address'].append(address)\n",
        "    customer_data['ssn'].append(ssn)\n",
        "    customer_data['birth_date'].append(birth_date)\n",
        "    customer_data['acquisition_channel'].append(acquisition_channel)\n",
        "\n",
        "\n",
        "customer_df = pd.DataFrame(customer_data)\n",
        "\n",
        "\n",
        "# Creating the Order Dataset\n",
        "order_data = {\n",
        "    'customer_id': [],\n",
        "    'order_id': [],\n",
        "    'transaction_date': [],\n",
        "    'product': [],\n",
        "    'price': [],\n",
        "    'quantity': []\n",
        "}\n",
        "\n",
        "start_date = datetime.now() - timedelta(days=3650)  # 10 years ago\n",
        "end_date = datetime.now()\n",
        "\n",
        "customer_ids = customer_df['customer_id'].tolist()\n",
        "\n",
        "for order_id in range(1, 5):  # Generate 25 orders\n",
        "    random_customer_id = random.choice(customer_ids)\n",
        "    transaction_date = random_date(start_date, end_date).strftime('%Y-%m-%d')\n",
        "    product = random.choice(['Smartphone', 'Headphones', 'Laptop', 'Mouse', 'Smartwatch',\n",
        "                             'Fitness Tracker', 'Camera', 'SD Card'])\n",
        "    price = random.randint(10, 500)\n",
        "    quantity = random.randint(1, 5)\n",
        "\n",
        "    order_data['customer_id'].append(random_customer_id)\n",
        "    order_data['order_id'].append(order_id)\n",
        "    order_data['transaction_date'].append(transaction_date)\n",
        "    order_data['product'].append(product)\n",
        "    order_data['price'].append(price)\n",
        "    order_data['quantity'].append(quantity)\n",
        "\n",
        "order_df = pd.DataFrame(order_data)\n",
        "\n",
        "# Printing the datasets\n",
        "print(\"Customer Dataset:\")\n",
        "print(customer_df)\n",
        "\n",
        "print(\"\\nOrder Dataset:\")\n",
        "print(order_df)"
      ]
    },
    {
      "cell_type": "code",
      "source": [],
      "metadata": {
        "id": "itYlgBksNri_"
      },
      "execution_count": null,
      "outputs": []
    }
  ]
}